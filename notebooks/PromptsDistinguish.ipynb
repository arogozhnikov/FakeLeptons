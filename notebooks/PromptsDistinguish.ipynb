{
 "metadata": {
  "name": "",
  "signature": "sha256:f9a37c958f6adcab45822e6ab9f4fa9d603d20e4aef84ee9d87c812de1fc5088"
 },
 "nbformat": 3,
 "nbformat_minor": 0,
 "worksheets": [
  {
   "cells": [
    {
     "cell_type": "markdown",
     "metadata": {},
     "source": [
      "# In this notebook we distinguish prompt leptons with different origin "
     ]
    },
    {
     "cell_type": "code",
     "collapsed": false,
     "input": [
      "import root_numpy\n",
      "import hep_ml\n",
      "import pandas\n",
      "from hep_ml.commonutils import train_test_split\n",
      "from hep_ml.reports import plot_roc\n",
      "from sklearn.metrics import roc_curve"
     ],
     "language": "python",
     "metadata": {},
     "outputs": [],
     "prompt_number": 1
    },
    {
     "cell_type": "code",
     "collapsed": false,
     "input": [
      "folder = '/mnt/w76/notebook/datasets/fromLesya/ver3/'\n",
      "prompt_filename = folder + 'tt_prompts.root'\n",
      "fakes_filename  = folder + 'tt_fakes.root'\n",
      "\n",
      "treename = \"fakeTree\""
     ],
     "language": "python",
     "metadata": {},
     "outputs": [],
     "prompt_number": 2
    },
    {
     "cell_type": "markdown",
     "metadata": {},
     "source": [
      "## Correspondence in data"
     ]
    },
    {
     "cell_type": "code",
     "collapsed": false,
     "input": [
      "flavours = {0: 'electrons', 1: 'muons'}\n",
      "origins = {1: 'b', 2: 'c', 3: 'uds'} # and 0: prompt"
     ],
     "language": "python",
     "metadata": {},
     "outputs": [],
     "prompt_number": 3
    },
    {
     "cell_type": "markdown",
     "metadata": {},
     "source": [
      "## Markers for features not used in training"
     ]
    },
    {
     "cell_type": "code",
     "collapsed": false,
     "input": [
      "all_columns = root_numpy.list_branches(prompt_filename, treename=treename)\n",
      "\n",
      "markers = ['_mom', 'gen', '_lep', 'AllMC', '_n_', '_met', \n",
      "           'HT', '_closeJetPtAllstatus', '_charges', '_ipPVmc', '_isloose', '_istight',\n",
      "           '_eventNb', '_runNb', '_lumiBlock', '_origin', '_originReduced',\n",
      "           '_isolationMC', '_partonIdMatched', '_sameParton', 'hJet_SoftLeptId']\n",
      "\n",
      "markers += ['_lE', '_lEta', '_lPhi', '_lPt', '_mt', 'hJet_e', 'hJet_Soft',\n",
      "            'hJet_JECUnc', 'hJet_phi', 'hJet_pt', '_closeJetPtAll']"
     ],
     "language": "python",
     "metadata": {},
     "outputs": [],
     "prompt_number": 4
    },
    {
     "cell_type": "code",
     "collapsed": false,
     "input": [
      "flattened_columns = dict()\n",
      "for column in all_columns:\n",
      "    data = root_numpy.root2array(prompt_filename, treename=treename, branches=[column], stop=10)\n",
      "    try:\n",
      "        for index in range(len(data[0][0])):\n",
      "            flattened_columns[\"{column}[{index}]\".format(column=column, index=index)] = column + str(index)\n",
      "    except:\n",
      "        flattened_columns[column] = column\n",
      "# for some strange reason this column is also added\n",
      "flattened_columns.pop('_PVerr[3]')"
     ],
     "language": "python",
     "metadata": {},
     "outputs": [
      {
       "metadata": {},
       "output_type": "pyout",
       "prompt_number": 5,
       "text": [
        "'_PVerr3'"
       ]
      }
     ],
     "prompt_number": 5
    },
    {
     "cell_type": "markdown",
     "metadata": {},
     "source": [
      "## Reading data, splitting to train/test"
     ]
    },
    {
     "cell_type": "code",
     "collapsed": false,
     "input": [
      "n_events = 1000000"
     ],
     "language": "python",
     "metadata": {},
     "outputs": [],
     "prompt_number": 6
    },
    {
     "cell_type": "code",
     "collapsed": false,
     "input": [
      "read_columns = sorted(flattened_columns.keys())\n",
      "\n",
      "data = pandas.DataFrame(root_numpy.root2array(prompt_filename, treename=treename, branches=read_columns, stop=n_events))\n",
      "data['ptRatio'] = data.eval('_lPt / _closeJetPtAll')\n",
      "# Three IP features contain the events with huge values not convertible to float32 \n",
      "data = numpy.clip(data, -1e20, 1e20)\n",
      "labels = data._origin\n",
      "\n",
      "trainX, testX, trainY, testY = train_test_split(data, labels, train_size=0.2)"
     ],
     "language": "python",
     "metadata": {},
     "outputs": [],
     "prompt_number": 7
    },
    {
     "cell_type": "markdown",
     "metadata": {},
     "source": [
      "# Features used in training"
     ]
    },
    {
     "cell_type": "code",
     "collapsed": false,
     "input": [
      "train_variables = [col for col in data.columns if not any([marker in col for marker in markers])]\n",
      "sorted(train_variables)"
     ],
     "language": "python",
     "metadata": {},
     "outputs": [
      {
       "metadata": {},
       "output_type": "pyout",
       "prompt_number": 8,
       "text": [
        "['_3dIP',\n",
        " '_3dIPerr',\n",
        " '_3dIPsig',\n",
        " '_PVchi2',\n",
        " '_PVerr[0]',\n",
        " '_PVerr[1]',\n",
        " '_PVerr[2]',\n",
        " '_closeJetAngAll',\n",
        " '_closeJetCSVAll',\n",
        " '_closeJetEtaAll',\n",
        " '_closeJetPhiAll',\n",
        " '_flavors',\n",
        " '_ipPV',\n",
        " '_ipPVerr',\n",
        " '_ipZPV',\n",
        " '_ipZPVerr',\n",
        " '_isolation',\n",
        " '_isolationComponents[0]',\n",
        " '_isolationComponents[1]',\n",
        " '_isolationComponents[2]',\n",
        " '_isolationComponents[3]',\n",
        " '_ptRelAll',\n",
        " 'hJet_cef',\n",
        " 'hJet_nconstituents',\n",
        " 'hJet_vtx3dL',\n",
        " 'hJet_vtx3deL',\n",
        " 'hJet_vtxMass',\n",
        " 'hJet_vtxPt',\n",
        " 'ptRatio']"
       ]
      }
     ],
     "prompt_number": 8
    },
    {
     "cell_type": "markdown",
     "metadata": {},
     "source": [
      "# Training Classifier"
     ]
    },
    {
     "cell_type": "code",
     "collapsed": false,
     "input": [
      "from sklearn.ensemble import GradientBoostingClassifier\n",
      "from hep_ml import HidingClassifier"
     ],
     "language": "python",
     "metadata": {},
     "outputs": [],
     "prompt_number": 9
    },
    {
     "cell_type": "code",
     "collapsed": false,
     "input": [
      "classifiers = hep_ml.ClassifiersDict()\n",
      "base_gb = GradientBoostingClassifier(subsample=0.3, n_estimators=400, max_depth=8, min_samples_split=300, \n",
      "                                     max_features=8, learning_rate=0.05)\n",
      "\n",
      "classifiers['gb'] = HidingClassifier(base_estimator=base_gb, train_variables=train_variables) "
     ],
     "language": "python",
     "metadata": {},
     "outputs": [],
     "prompt_number": 15
    },
    {
     "cell_type": "code",
     "collapsed": false,
     "input": [
      "classifiers.fit(trainX, trainY)"
     ],
     "language": "python",
     "metadata": {},
     "outputs": [
      {
       "output_type": "stream",
       "stream": "stdout",
       "text": [
        "Classifier           gb is learnt in 295.15 seconds\n",
        "Totally spent 295.15 seconds on training\n"
       ]
      },
      {
       "metadata": {},
       "output_type": "pyout",
       "prompt_number": 16,
       "text": [
        "ClassifiersDict([('gb', HidingClassifier(base_estimator=GradientBoostingClassifier(init=None, learning_rate=0.05, loss='deviance',\n",
        "              max_depth=8, max_features=8, max_leaf_nodes=None,\n",
        "              min_samples_leaf=1, min_samples_split=300, n_estimators=400,\n",
        "              random_state=None, subsample=0.3, verbose=0,\n",
        "              warm_start=False),\n",
        "         train_variables=['_3dIP', '_3dIPerr', '_3dIPsig', '_PVchi2', '_PVerr[0]', '_PVerr[1]', '_PVerr[2]', '_closeJetAngAll', '_closeJetCSVAll', '_closeJetEtaAll', '_closeJetPhiAll', '_flavors', '_ipPV', '_ipPVerr', '_ipZPV', '_ipZPVerr', '_isolation', '_isolationComponents[0]', '_isolationComponents[1]', '_isolationComponents[2]', '_isolationComponents[3]', '_ptRelAll', 'hJet_cef', 'hJet_nconstituents', 'hJet_vtx3dL', 'hJet_vtx3deL', 'hJet_vtxMass', 'hJet_vtxPt', 'ptRatio']))])"
       ]
      }
     ],
     "prompt_number": 16
    },
    {
     "cell_type": "code",
     "collapsed": false,
     "input": [
      "predictions = classifiers.test_on(testX, testY)"
     ],
     "language": "python",
     "metadata": {},
     "outputs": [],
     "prompt_number": 17
    },
    {
     "cell_type": "code",
     "collapsed": false,
     "input": [
      "predictions.roc()"
     ],
     "language": "python",
     "metadata": {},
     "outputs": [
      {
       "metadata": {},
       "output_type": "pyout",
       "prompt_number": 18,
       "text": [
        "<hep_ml.reports.Predictions at 0x7f1a7d0ae2d0>"
       ]
      },
      {
       "metadata": {},
       "output_type": "display_data",
       "png": "[encoded data removed]",
       "text": [
        "<matplotlib.figure.Figure at 0x7f1afe936150>"
       ]
      }
     ],
     "prompt_number": 18
    },
    {
     "cell_type": "code",
     "collapsed": false,
     "input": [
      "predictions.learning_curves()"
     ],
     "language": "python",
     "metadata": {},
     "outputs": [
      {
       "metadata": {},
       "output_type": "pyout",
       "prompt_number": 19,
       "text": [
        "<hep_ml.reports.Predictions at 0x7f1a7d0ae2d0>"
       ]
      },
      {
       "metadata": {},
       "output_type": "display_data",
       "png": "[encoded data removed]",
       "text": [
        "<matplotlib.figure.Figure at 0x7f1af0d96e90>"
       ]
      }
     ],
     "prompt_number": 19
    },
    {
     "cell_type": "code",
     "collapsed": false,
     "input": [],
     "language": "python",
     "metadata": {},
     "outputs": [],
     "prompt_number": 14
    }
   ],
   "metadata": {}
  }
 ]
}